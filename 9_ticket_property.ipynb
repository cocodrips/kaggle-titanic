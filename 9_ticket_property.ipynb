{
 "cells": [
  {
   "cell_type": "code",
   "execution_count": 110,
   "metadata": {
    "collapsed": false
   },
   "outputs": [
    {
     "name": "stdout",
     "output_type": "stream",
     "text": [
      "Survived\n",
      "Survived\n",
      "fomula: Pclass+C(Sex)+C(Child)+C(Embarked)+Survived\n",
      "fomula: Pclass+C(Sex)+C(Child)+C(Embarked)\n"
     ]
    }
   ],
   "source": [
    "import matplotlib.pyplot as plt\n",
    "import numpy as np\n",
    "import pandas as pd\n",
    "import patsy\n",
    "import seaborn as sns\n",
    "\n",
    "from sklearn.cross_validation import train_test_split\n",
    "import seaborn as sns\n",
    "\n",
    "exp_values = [\n",
    "    'Pclass',\n",
    "    #     'PassengerId',\n",
    "    'C(Sex)',\n",
    "    'C(Child)',\n",
    "    'C(Embarked)',\n",
    "    #     'SibSp',\n",
    "]\n",
    "predict_value = 'Survived'\n",
    "child_threthold = 16\n",
    "\n",
    "\n",
    "def output_result(model, category_data, base_data):\n",
    "    result = model.predict(category_data)\n",
    "    with open('data/result.csv', 'w') as f:\n",
    "        f.write('PassengerId,Survived\\n')\n",
    "        for r, pid in zip(result, base_data['PassengerId']):\n",
    "            f.write('{},{}\\n'.format(pid, str(int(r))))\n",
    "\n",
    "\n",
    "def category_to_table(titanic, is_training_data=True):\n",
    "    fomula = '+'.join(exp_values)\n",
    "    if is_training_data:\n",
    "        fomula = fomula + '+' + predict_value\n",
    "\n",
    "    print('fomula:', fomula)\n",
    "\n",
    "    c_df = patsy.dmatrix(fomula, data=titanic, return_type='dataframe')\n",
    "    return c_df\n",
    "\n",
    "\n",
    "def load_titanic_data(is_training_data=True):\n",
    "    \"\"\"\n",
    "    データを読みこみ、\n",
    "    必要なパラメータに絞る\n",
    "    \"\"\"\n",
    "\n",
    "    s_rate_ticket_dict = dict()\n",
    "    s_count_ticket_dict = dict()\n",
    "\n",
    "    def is_child(age):\n",
    "        if pd.isnull(age):\n",
    "            return False\n",
    "        if age < child_threthold:\n",
    "            return True\n",
    "        return False\n",
    "\n",
    "    def ticket_count_info(x):\n",
    "        if x in s_count_ticket_dict:\n",
    "            return s_count_ticket_dict[x]\n",
    "        return 0\n",
    "\n",
    "    def ticket_ratio_info(x):\n",
    "        if x in s_rate_ticket_dict:\n",
    "            return s_rate_ticket_dict[x]\n",
    "        return None\n",
    "\n",
    "    titanic = None\n",
    "    if is_training_data:\n",
    "        titanic = pd.read_csv(\"data/train.csv\")\n",
    "    else:\n",
    "        titanic = pd.read_csv(\"data/test.csv\")\n",
    "\n",
    "    if is_training_data:\n",
    "        subset_ = ['Age', 'Pclass']\n",
    "        titanic = titanic.dropna(\n",
    "            subset=subset_\n",
    "        )\n",
    "\n",
    "        for k, v in titanic.groupby('Ticket')[['Survived']].count().items():\n",
    "            print(k)\n",
    "            for kk, vv in v.items():\n",
    "                s_count_ticket_dict[kk] = vv\n",
    "\n",
    "        for k, v in titanic.groupby('Ticket')[['Survived']].mean().items():\n",
    "            print(k)\n",
    "            for kk, vv in v.items():\n",
    "                s_rate_ticket_dict[kk] = vv\n",
    "\n",
    "        titanic = titanic.assign(\n",
    "            TicketCount=titanic['Ticket'].map(ticket_count_info),\n",
    "            TicketSRate=titanic['Ticket'].map(ticket_ratio_info),\n",
    "            Type=\"Train\",\n",
    "            Training=1,\n",
    "            Test=0\n",
    "        )\n",
    "    else:\n",
    "        titanic = titanic.assign(\n",
    "            Surrvived=None,\n",
    "            Type=\"Test\",\n",
    "            Training=0,\n",
    "            Test=1\n",
    "        )\n",
    "\n",
    "    titanic = titanic.assign(\n",
    "        Child=titanic['Age'].map(is_child),\n",
    "    )\n",
    "    return titanic\n",
    "\n",
    "\n",
    "def hit_rate(predict, test):\n",
    "    N = len(predict)\n",
    "    hit = sum([1 if p == t else 0 for p, t in zip(predict, test)])\n",
    "    return \"{0:.3f}%\".format(100 * hit / N * 1.0)\n",
    "\n",
    "\n",
    "def main():\n",
    "    titanic = load_titanic_data()\n",
    "    titanic_category = category_to_table(titanic)\n",
    "\n",
    "    x_columns = list(titanic_category.columns)\n",
    "    x_columns.remove(predict_value)\n",
    "\n",
    "    X_train, X_test, Y_train, Y_test = train_test_split(titanic[x_columns],\n",
    "                                                        titanic[predict_value],\n",
    "                                                        test_size=0.4,\n",
    "                                                        random_state=0)\n",
    "\n",
    "\n",
    "titanic = load_titanic_data()\n",
    "titanic.head(2)\n",
    "\n",
    "## カテゴリカルなデータに変換\n",
    "titanic_category = category_to_table(titanic)\n",
    "titanic_category.head(2)\n",
    "\n",
    "test_data = load_titanic_data(False)\n",
    "test_data_category = category_to_table(test_data, False)\n",
    "\n",
    "full_data = pd.concat([titanic, test_data])"
   ]
  },
  {
   "cell_type": "code",
   "execution_count": 104,
   "metadata": {
    "collapsed": false
   },
   "outputs": [
    {
     "name": "stdout",
     "output_type": "stream",
     "text": [
      "Survived\n",
      "Survived\n"
     ]
    }
   ],
   "source": [
    "s_rate_ticket_dict = dict()\n",
    "s_count_ticket_dict = dict()\n",
    "for k, v in titanic.groupby('Ticket')[['Survived']].count().items():\n",
    "    print(k)\n",
    "    for kk, vv in v.items():\n",
    "#         if vv > 3:\n",
    "        s_count_ticket_dict[kk] = vv\n",
    "\n",
    "for k, v in titanic.groupby('Ticket')[['Survived']].mean().items():\n",
    "    print(k)\n",
    "    for kk, vv in v.items():\n",
    "        s_rate_ticket_dict[kk] = vv\n",
    "\n",
    "def ticket_count_info(x):\n",
    "    key = x[\"Ticket\"]\n",
    "    if key in s_count_ticket_dict:\n",
    "        return s_count_ticket_dict[key]\n",
    "\n",
    "def ticket_ratio_info(x):\n",
    "    key = x[\"Ticket\"]\n",
    "    if key in s_rate_ticket_dict:\n",
    "        return s_rate_ticket_dict[key]\n"
   ]
  },
  {
   "cell_type": "code",
   "execution_count": 105,
   "metadata": {
    "collapsed": false
   },
   "outputs": [
    {
     "name": "stdout",
     "output_type": "stream",
     "text": [
      "427 285\n"
     ]
    }
   ],
   "source": [
    "x_columns = list(titanic_category.columns)\n",
    "x_columns.remove(predict_value)\n",
    "x_columns\n",
    "\n",
    "from sklearn.cross_validation import train_test_split, StratifiedShuffleSplit\n",
    "\n",
    "\n",
    "X_train, X_test, Y_train, Y_test = train_test_split(titanic_category[x_columns],\n",
    "                                                                                        titanic_category[predict_value],\n",
    "                                                                                        test_size=0.4,\n",
    "                                                                                        random_state=0)\n",
    "\n",
    "print(len(X_train), len(X_test))\n",
    "\n",
    "train_user = set(X_train.index)\n",
    "\n",
    "training_titanic = titanic.query('PassengerId in @train_user')\n",
    "test_titanic = titanic.query('PassengerId not in @train_user')\n"
   ]
  },
  {
   "cell_type": "code",
   "execution_count": 128,
   "metadata": {
    "collapsed": false
   },
   "outputs": [
    {
     "name": "stdout",
     "output_type": "stream",
     "text": [
      "Survived    0.95\n",
      "dtype: float64\n",
      "Survived    0.02\n",
      "dtype: float64\n"
     ]
    }
   ],
   "source": [
    "ts_1_table = titanic[(titanic['TicketCount'] > 2) & (titanic[\"TicketSRate\"] >= 0.75)][[\"Ticket\", \"Survived\", \"TicketCount\", \"TicketSRate\", \"TicketSRate\"]]\n",
    "print(ts_1_table[['Survived']].mean())\n",
    "\n",
    "ts_0_table = titanic[(titanic['TicketCount'] > 2) & (titanic[\"TicketSRate\"] <= 0.25)][[\"Ticket\",\"Survived\", \"TicketCount\", \"TicketSRate\", \"TicketSRate\"]]\n",
    "print(ts_0_table[['Survived']].mean())\n"
   ]
  },
  {
   "cell_type": "code",
   "execution_count": 136,
   "metadata": {
    "collapsed": false
   },
   "outputs": [
    {
     "data": {
      "text/plain": [
       "{'3101295',\n",
       " '345773',\n",
       " '347082',\n",
       " '347088',\n",
       " '349909',\n",
       " '382652',\n",
       " 'CA 2144',\n",
       " 'LINE',\n",
       " 'S.O.C. 14879',\n",
       " 'W./C. 6608'}"
      ]
     },
     "execution_count": 136,
     "metadata": {},
     "output_type": "execute_result"
    }
   ],
   "source": [
    "survived_ticket_set = set()\n",
    "dead_ticket_set = set()\n",
    "\n",
    "for ticket in ts_1_table.Ticket.values:\n",
    "    survived_ticket_set.add(ticket)\n",
    "\n",
    "for ticket in ts_0_table.Ticket.values:\n",
    "    dead_ticket_set.add(ticket)\n",
    "\n",
    "survived_ticket_set\n",
    "dead_ticket_set\n"
   ]
  },
  {
   "cell_type": "code",
   "execution_count": null,
   "metadata": {
    "collapsed": true
   },
   "outputs": [],
   "source": []
  }
 ],
 "metadata": {
  "anaconda-cloud": {},
  "kernelspec": {
   "display_name": "Python [conda root]",
   "language": "python",
   "name": "conda-root-py"
  },
  "language_info": {
   "codemirror_mode": {
    "name": "ipython",
    "version": 3
   },
   "file_extension": ".py",
   "mimetype": "text/x-python",
   "name": "python",
   "nbconvert_exporter": "python",
   "pygments_lexer": "ipython3",
   "version": "3.5.2"
  }
 },
 "nbformat": 4,
 "nbformat_minor": 1
}
